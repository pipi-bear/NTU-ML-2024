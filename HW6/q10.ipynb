{
 "cells": [
  {
   "cell_type": "code",
   "execution_count": 45,
   "metadata": {},
   "outputs": [],
   "source": [
    "import numpy as np\n",
    "from sklearn.preprocessing import LabelEncoder\n",
    "from sklearn.svm import SVC\n",
    "from sklearn.datasets import load_svmlight_file\n",
    "import pandas as pd\n"
   ]
  },
  {
   "cell_type": "code",
   "execution_count": 46,
   "metadata": {},
   "outputs": [],
   "source": [
    "data_set = 'mnist.scale'\n"
   ]
  },
  {
   "cell_type": "code",
   "execution_count": 47,
   "metadata": {},
   "outputs": [],
   "source": [
    "def read_linear_format(file_path):\n",
    "    X, y = [], []\n",
    "    with open(file_path, 'r') as f:\n",
    "        for line in f:\n",
    "            parts = line.strip().split()\n",
    "            y.append(int(parts[0]))  \n",
    "            features = {}\n",
    "            for item in parts[1:]:\n",
    "                index, value = item.split(\":\")\n",
    "                features[int(index)] = float(value)\n",
    "            X.append(features)\n",
    "    return X, np.array(y)\n",
    "\n",
    "X_train, y_train = read_linear_format(data_set)"
   ]
  },
  {
   "cell_type": "code",
   "execution_count": 48,
   "metadata": {},
   "outputs": [
    {
     "name": "stdout",
     "output_type": "stream",
     "text": [
      "Number of examples with label 3: 6131\n",
      "Number of examples with label 7: 6265\n"
     ]
    }
   ],
   "source": [
    "mask_3 = np.array(y_train == 3)\n",
    "mask_7 = np.array(y_train == 7)\n",
    "\n",
    "indices_3 = np.where(mask_3)[0]\n",
    "indices_7 = np.where(mask_7)[0]\n",
    "\n",
    "X_train_3 = [X_train[i] for i in indices_3]\n",
    "X_train_7 = [X_train[i] for i in indices_7]\n",
    "y_train_3 = y_train[mask_3]\n",
    "y_train_7 = y_train[mask_7]\n",
    "\n",
    "print(\"Number of examples with label 3:\", len(X_train_3))\n",
    "print(\"Number of examples with label 7:\", len(X_train_7))\n",
    "\n",
    "n_features = max(max(feat.keys()) for feat in X_train_3 + X_train_7)"
   ]
  },
  {
   "cell_type": "code",
   "execution_count": 49,
   "metadata": {},
   "outputs": [],
   "source": [
    "def dict_to_array(X_dict, n_features):\n",
    "    X_dense = np.zeros((len(X_dict), n_features))\n",
    "    for i, sample in enumerate(X_dict):\n",
    "        for feat_idx, value in sample.items():\n",
    "            X_dense[i, feat_idx-1] = value  \n",
    "    return X_dense\n",
    "\n",
    "X_train_3_dense = dict_to_array(X_train_3, n_features)\n",
    "X_train_7_dense = dict_to_array(X_train_7, n_features)\n",
    "\n",
    "X_combined = np.vstack([X_train_3_dense, X_train_7_dense])"
   ]
  },
  {
   "cell_type": "code",
   "execution_count": 50,
   "metadata": {},
   "outputs": [
    {
     "name": "stdout",
     "output_type": "stream",
     "text": [
      "Unique labels after encoding: [-1  1]\n",
      "Number of -1 labels: 6131\n",
      "Number of 1 labels: 6265\n"
     ]
    }
   ],
   "source": [
    "# Create a LabelEncoder and specify the required mapping \n",
    "le = LabelEncoder()\n",
    "\n",
    "# Specify the original labels\n",
    "le.fit([3, 7])  \n",
    "\n",
    "# Combine the filtered data\n",
    "y_combined = np.concatenate([y_train_3, y_train_7])\n",
    "# the mapping is: 3 -> -1, 7 -> 1\n",
    "y_train_encoded = np.where(y_combined == 3, -1, 1)  \n",
    "\n",
    "# transform the original labels to -1 and 1\n",
    "y_train_3_encoded = np.full(len(y_train_3), -1)  # All 3s become -1\n",
    "y_train_7_encoded = np.full(len(y_train_7), 1)   # All 7s become 1\n",
    "\n",
    "# Verify the results\n",
    "print(\"Unique labels after encoding:\", np.unique(y_train_encoded))\n",
    "print(\"Number of -1 labels:\", np.sum(y_train_encoded == -1))\n",
    "print(\"Number of 1 labels:\", np.sum(y_train_encoded == 1))"
   ]
  },
  {
   "cell_type": "code",
   "execution_count": 51,
   "metadata": {},
   "outputs": [],
   "source": [
    "# Use this list to store the result of form (C, Q, amount_of_support_vectors)\n",
    "result = []\n",
    "\n",
    "for C in [0.1, 1, 10]:\n",
    "    for Q in [2, 3, 4]:\n",
    "        svm_classifier = SVC(C = C, kernel = 'poly', degree = Q, coef0 = 1, gamma = 1)\n",
    "        svm_classifier.fit(X_combined, y_train_encoded)  \n",
    "\n",
    "        amount_of_support_vectors = svm_classifier.n_support_.sum()        \n",
    "        result.append((C, Q, amount_of_support_vectors))"
   ]
  },
  {
   "cell_type": "code",
   "execution_count": 52,
   "metadata": {},
   "outputs": [
    {
     "name": "stdout",
     "output_type": "stream",
     "text": [
      "\n",
      "Complete Results Table\n",
      "--------------------------------------------------\n",
      "Support Vectors for each combination:\n",
      "      Q=2  Q=3  Q=4\n",
      "C                  \n",
      "0.1   505  547  575\n",
      "1.0   505  547  575\n",
      "10.0  505  547  575\n",
      "\n",
      "Best Combination(s):\n",
      "--------------------------------------------------\n",
      "   C  Q  Support Vectors\n",
      " 0.1  2              505\n",
      " 1.0  2              505\n",
      "10.0  2              505\n",
      "\n",
      "Minimum number of support vectors: 505\n"
     ]
    }
   ],
   "source": [
    "df_results = pd.DataFrame(result, columns=['C', 'Q', 'Support Vectors'])\n",
    "\n",
    "df_pivot = df_results.pivot(index='C', columns='Q', values='Support Vectors')\n",
    "df_pivot.columns = [f'Q={q}' for q in df_pivot.columns]\n",
    "\n",
    "print(\"\\nComplete Results Table\")\n",
    "print(\"-\" * 50)\n",
    "print(\"Support Vectors for each combination:\")\n",
    "print(df_pivot.to_string(float_format=lambda x: '{:,.0f}'.format(x)))\n",
    "\n",
    "min_sv = df_results['Support Vectors'].min()\n",
    "min_config = df_results[df_results['Support Vectors'] == min_sv].iloc[0]\n",
    "\n",
    "print(\"\\nBest Combination(s):\")\n",
    "print(\"-\" * 50)\n",
    "print(df_results[min_mask].to_string(index=False))\n",
    "print(f\"\\nMinimum number of support vectors: {min_sv}\")"
   ]
  }
 ],
 "metadata": {
  "kernelspec": {
   "display_name": "Python 3",
   "language": "python",
   "name": "python3"
  },
  "language_info": {
   "codemirror_mode": {
    "name": "ipython",
    "version": 3
   },
   "file_extension": ".py",
   "mimetype": "text/x-python",
   "name": "python",
   "nbconvert_exporter": "python",
   "pygments_lexer": "ipython3",
   "version": "3.9.20"
  }
 },
 "nbformat": 4,
 "nbformat_minor": 2
}
