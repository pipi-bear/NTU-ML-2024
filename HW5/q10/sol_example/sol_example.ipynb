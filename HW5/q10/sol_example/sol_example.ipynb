{
 "cells": [
  {
   "cell_type": "code",
   "execution_count": 23,
   "metadata": {},
   "outputs": [],
   "source": [
    "from liblinear.liblinearutil import *\n",
    "from itertools import combinations_with_replacement\n",
    "import numpy as np\n"
   ]
  },
  {
   "cell_type": "code",
   "execution_count": 24,
   "metadata": {},
   "outputs": [],
   "source": [
    "train_data = 'hw4_train.dat'\n",
    "test_data = 'hw4_test.dat'\n"
   ]
  },
  {
   "cell_type": "code",
   "execution_count": 25,
   "metadata": {},
   "outputs": [],
   "source": [
    "def readFile(path):\n",
    "    X = []\n",
    "    y = []\n",
    "    for line in open(path).readlines():\n",
    "        data = line.strip().split(' ')\n",
    "        y.append(float(data[-1]))\n",
    "        X.append(list(map(float, data[:-1])))\n",
    "\n",
    "    return np.array(X), np.array(y)"
   ]
  },
  {
   "cell_type": "code",
   "execution_count": 26,
   "metadata": {},
   "outputs": [],
   "source": [
    "def transform(data, Q) : \n",
    "    data_tf = np.column_stack((np.ones(len(data)), data))\n",
    "    c = range(len(data[0]))\n",
    "    for i in range(2, Q + 1):\n",
    "        orderList = [e for e in combinations_with_replacement(c, i)]\n",
    "        for j in orderList:\n",
    "            temp = np.ones(len(data))\n",
    "            for k in range(len(j)):\n",
    "                temp = np.multiply(temp, data[:, j[k]])\n",
    "            \n",
    "            data_tf = np.column_stack((data_tf, temp))\n",
    "        \n",
    "    return data_tf"
   ]
  },
  {
   "cell_type": "code",
   "execution_count": 27,
   "metadata": {},
   "outputs": [],
   "source": [
    "def ZeroOneError(X_pred, y):\n",
    "    err = np.mean(y != X_pred)\n",
    "\n",
    "    return err"
   ]
  },
  {
   "cell_type": "code",
   "execution_count": 28,
   "metadata": {},
   "outputs": [
    {
     "name": "stdout",
     "output_type": "stream",
     "text": [
      "(200, 84)\n",
      "(800, 84)\n"
     ]
    }
   ],
   "source": [
    "X_train, y_train = readFile(train_data)\n",
    "X_test, y_test = readFile(test_data)\n",
    "\n",
    "X_train_tf = transform(X_train, 3)\n",
    "X_test_tf = transform(X_test, 3)\n",
    "\n",
    "print(X_train_tf.shape)\n",
    "print(X_test_tf.shape)"
   ]
  },
  {
   "cell_type": "code",
   "execution_count": 31,
   "metadata": {},
   "outputs": [
    {
     "data": {
      "text/plain": [
       "numpy.ndarray"
      ]
     },
     "execution_count": 31,
     "metadata": {},
     "output_type": "execute_result"
    }
   ],
   "source": [
    "type(X_train_tf)"
   ]
  },
  {
   "cell_type": "code",
   "execution_count": 33,
   "metadata": {},
   "outputs": [
    {
     "data": {
      "text/plain": [
       "array([ 1.00000000e+00, -2.15390000e+00, -2.10300000e-01,  1.66740000e+00,\n",
       "        4.69000000e-01,  9.75500000e-01, -2.93430000e+00,  4.63928521e+00,\n",
       "        4.52965170e-01, -3.59141286e+00, -1.01017910e+00, -2.10112945e+00,\n",
       "        6.32018877e+00,  4.42260900e-02, -3.50654220e-01, -9.86307000e-02,\n",
       "       -2.05147650e-01,  6.17083290e-01,  2.78022276e+00,  7.82010600e-01,\n",
       "        1.62654870e+00, -4.89265182e+00,  2.19961000e-01,  4.57509500e-01,\n",
       "       -1.37618670e+00,  9.51600250e-01, -2.86240965e+00,  8.61011649e+00,\n",
       "       -9.99255641e+00, -9.75641680e-01,  7.73554416e+00,  2.17582476e+00,\n",
       "        4.52562272e+00, -1.36130546e+01, -9.52585753e-02,  7.55274124e-01,\n",
       "        2.12440665e-01,  4.41867523e-01, -1.32913570e+00, -5.98832180e+00,\n",
       "       -1.68437263e+00, -3.50342324e+00,  1.05382828e+01, -4.73773998e-01,\n",
       "       -9.85429712e-01,  2.96416853e+00, -2.04965178e+00,  6.16534415e+00,\n",
       "       -1.85453299e+01, -9.30074673e-03,  7.37425825e-02,  2.07420362e-02,\n",
       "        4.31425508e-02, -1.29772616e-01, -5.84680846e-01, -1.64456829e-01,\n",
       "       -3.42063192e-01,  1.02892468e+00, -4.62577983e-02, -9.62142478e-02,\n",
       "        2.89412063e-01, -2.00121533e-01,  6.01964749e-01, -1.81070750e+00,\n",
       "        4.63574343e+00,  1.30392447e+00,  2.71210730e+00, -8.15800764e+00,\n",
       "        3.66762971e-01,  7.62851340e-01, -2.29465370e+00,  1.58669826e+00,\n",
       "       -4.77278185e+00,  1.43565082e+01,  1.03161709e-01,  2.14571955e-01,\n",
       "       -6.45431562e-01,  4.46300517e-01, -1.34247013e+00,  4.03814463e+00,\n",
       "        9.28286044e-01, -2.79228061e+00,  8.39916864e+00, -2.52646648e+01])"
      ]
     },
     "execution_count": 33,
     "metadata": {},
     "output_type": "execute_result"
    }
   ],
   "source": [
    "X_train_tf[0]\n"
   ]
  },
  {
   "cell_type": "markdown",
   "metadata": {},
   "source": [
    "minEout = np.inf\n",
    "best_log10_lambda = 0\n",
    "for log10_lambda in (-4, -2, 0, 2, 4):\n",
    "    c = 1 / 2 / (10 ** log10_lambda)\n",
    "    model = train(y_train, X_train_tf, '-s 0 -c ' + str(c) + ' -e 0.000001')\n",
    "    Pred_test, _, _ = predict(y_test, X_test_tf, model)\n",
    "    Eout = ZeroOneError(Pred_test, y_test)\n",
    "\n",
    "    if Eout == minEout:\n",
    "        best_log10_lambda = max(best_log10_lambda, log10_lambda)\n",
    "    elif Eout < minEout:\n",
    "        minEout = Eout\n",
    "        best_log10_lambda = log10_lambda\n",
    "\n",
    "print('The best log_10(λ*) = ', best_log10_lambda)"
   ]
  },
  {
   "cell_type": "code",
   "execution_count": 30,
   "metadata": {},
   "outputs": [
    {
     "data": {
      "text/plain": [
       "(84,)"
      ]
     },
     "execution_count": 30,
     "metadata": {},
     "output_type": "execute_result"
    }
   ],
   "source": [
    "X_train_tf[0].shape"
   ]
  }
 ],
 "metadata": {
  "kernelspec": {
   "display_name": "Python 3",
   "language": "python",
   "name": "python3"
  },
  "language_info": {
   "codemirror_mode": {
    "name": "ipython",
    "version": 3
   },
   "file_extension": ".py",
   "mimetype": "text/x-python",
   "name": "python",
   "nbconvert_exporter": "python",
   "pygments_lexer": "ipython3",
   "version": "3.9.6"
  }
 },
 "nbformat": 4,
 "nbformat_minor": 2
}
