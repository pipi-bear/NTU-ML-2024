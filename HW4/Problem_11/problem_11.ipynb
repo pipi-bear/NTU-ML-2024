{
 "cells": [
  {
   "cell_type": "code",
   "execution_count": 19,
   "metadata": {},
   "outputs": [],
   "source": [
    "import matplotlib.pyplot as plt\n",
    "import numpy as np\n"
   ]
  },
  {
   "cell_type": "markdown",
   "metadata": {},
   "source": [
    "## Read data and save in X and y\n"
   ]
  },
  {
   "cell_type": "code",
   "execution_count": 20,
   "metadata": {},
   "outputs": [],
   "source": [
    "def read_libsvm_format(file_path):\n",
    "    X, y = [], []\n",
    "    with open(file_path, 'r') as f:\n",
    "        for line in f:\n",
    "            parts = line.strip().split()\n",
    "            y.append(float(parts[0]))  \n",
    "            features = {}\n",
    "            for item in parts[1:]:\n",
    "                index, value = item.split(\":\")\n",
    "                features[int(index)] = float(value)\n",
    "            X.append(features)\n",
    "    return X, y\n",
    "\n",
    "X, y = read_libsvm_format('cpusmall_scale')\n"
   ]
  },
  {
   "cell_type": "markdown",
   "metadata": {},
   "source": [
    "## Initialization"
   ]
  },
  {
   "cell_type": "code",
   "execution_count": 21,
   "metadata": {},
   "outputs": [],
   "source": [
    "in_sample_error_lin = []   \n",
    "in_sample_error_poly = []  \n",
    "lin_sub_poly_error = [] \n",
    "\n",
    "N = 64     \n"
   ]
  },
  {
   "cell_type": "code",
   "execution_count": 22,
   "metadata": {},
   "outputs": [
    {
     "data": {
      "text/plain": [
       "{1: -0.993496,\n",
       " 2: -0.993043,\n",
       " 3: -0.850291,\n",
       " 4: -0.963479,\n",
       " 5: -0.960727,\n",
       " 6: -0.900596,\n",
       " 7: -0.96642,\n",
       " 8: -0.863996,\n",
       " 9: -0.606175,\n",
       " 10: -0.999291,\n",
       " 11: 0.0811894,\n",
       " 12: 0.651101}"
      ]
     },
     "execution_count": 22,
     "metadata": {},
     "output_type": "execute_result"
    }
   ],
   "source": [
    "X[0]"
   ]
  },
  {
   "cell_type": "markdown",
   "metadata": {},
   "source": [
    "## Transfrom data type"
   ]
  },
  {
   "cell_type": "code",
   "execution_count": 23,
   "metadata": {},
   "outputs": [],
   "source": [
    "def convert_dtype(X):               \n",
    "    X_arr = []\n",
    "    for element in X:\n",
    "        input_vector = np.zeros(12)\n",
    "        for index, value in element.items():\n",
    "            input_vector[index - 1] = value        \n",
    "        X_arr.append(input_vector)\n",
    "    return X_arr"
   ]
  },
  {
   "cell_type": "markdown",
   "metadata": {},
   "source": [
    "## transform function $\\Phi()$\n",
    "\n",
    "We use this function to map the orignal data into a higher dimensional space, and save the augmented input vectors in `X_aug_arr`.\n",
    "Which means that each of the element in `X_aug_arr` is a 37-dimensional vector (12 features + 1 constant + 12 squared features + 12 cubed features)."
   ]
  },
  {
   "cell_type": "code",
   "execution_count": 24,
   "metadata": {},
   "outputs": [],
   "source": [
    "def Phi(X_arr):\n",
    "    X_aug_arr = []\n",
    "    for arr in X_arr:\n",
    "        Phi_arr = np.concatenate((np.array([1]), arr, arr**2, arr**3))\n",
    "        X_aug_arr.append(Phi_arr)\n",
    "    return np.array(X_aug_arr)\n"
   ]
  },
  {
   "cell_type": "markdown",
   "metadata": {},
   "source": [
    "## Generate random indices"
   ]
  },
  {
   "cell_type": "code",
   "execution_count": 25,
   "metadata": {},
   "outputs": [],
   "source": [
    "def generate_random_sample(seed):\n",
    "    np.random.seed(seed)\n",
    "    random_sample_indices = np.random.choice(len(X), N, replace=False)\n",
    "\n",
    "    return random_sample_indices"
   ]
  },
  {
   "cell_type": "markdown",
   "metadata": {},
   "source": [
    "## get weight vector\n",
    "\n",
    "Use the pseudo inverse to get the weight vector."
   ]
  },
  {
   "cell_type": "code",
   "execution_count": 26,
   "metadata": {},
   "outputs": [],
   "source": [
    "def weight_vector(X_in_sample_mat_lin, y_in_sample_array, X_in_sample_mat_poly):\n",
    "\n",
    "    w_lin = np.linalg.pinv(X_in_sample_mat_lin) @ y_in_sample_array\n",
    "    w_poly = np.linalg.pinv(X_in_sample_mat_poly) @ y_in_sample_array\n",
    "    return w_lin , w_poly"
   ]
  },
  {
   "cell_type": "markdown",
   "metadata": {},
   "source": [
    "## in sample error"
   ]
  },
  {
   "cell_type": "code",
   "execution_count": 27,
   "metadata": {},
   "outputs": [],
   "source": [
    "def in_sample_error(X_sample_mat_lin, X_sample_mat_poly, y_sample_array, w_lin, w_poly):\n",
    "\n",
    "    in_sample_error_lin = np.mean((X_sample_mat_lin @ w_lin - y_sample_array) ** 2)\n",
    "    in_sample_error_poly = np.mean((X_sample_mat_poly @ w_poly - y_sample_array) ** 2)\n",
    "    return in_sample_error_lin, in_sample_error_poly"
   ]
  },
  {
   "cell_type": "markdown",
   "metadata": {},
   "source": [
    "## Main function"
   ]
  },
  {
   "cell_type": "code",
   "execution_count": 28,
   "metadata": {},
   "outputs": [],
   "source": [
    "for experiment in range(1126):\n",
    "\n",
    "    seed = experiment\n",
    "    random_sample_indices = generate_random_sample(seed)\n",
    "    X_sample = [X[i] for i in random_sample_indices]\n",
    "    y_sample = [y[i] for i in random_sample_indices]\n",
    "\n",
    "    X_sample_mat_lin = np.array(convert_dtype(X_sample))\n",
    "    X_sample_mat_poly = Phi(convert_dtype(X_sample)) \n",
    "\n",
    "    y_sample_array = np.array(y_sample)\n",
    "\n",
    "    w_lin, w_poly = weight_vector(X_sample_mat_lin, y_sample_array, X_sample_mat_poly)\n",
    "    in_sample_error_lin, in_sample_error_poly = in_sample_error(X_sample_mat_lin, X_sample_mat_poly, y_sample_array, w_lin, w_poly)\n",
    "\n",
    "    lin_sub_poly_error.append(in_sample_error_lin - in_sample_error_poly)\n",
    "    avg_difference = np.mean(lin_sub_poly_error)\n",
    "\n",
    "\n"
   ]
  },
  {
   "cell_type": "code",
   "execution_count": 29,
   "metadata": {},
   "outputs": [
    {
     "data": {
      "image/png": "[encoded data removed]",
      "text/plain": [
       "<Figure size 1000x600 with 1 Axes>"
      ]
     },
     "metadata": {},
     "output_type": "display_data"
    }
   ],
   "source": [
    "import matplotlib.pyplot as plt\n",
    "plt.figure(figsize=(10, 6))\n",
    "plt.hist(lin_sub_poly_error, bins=50, edgecolor='black')\n",
    "plt.axvline(x=avg_difference, color='r', linestyle='--', \n",
    "            label=f'Average Difference: {avg_difference:.6f}')\n",
    "plt.xlabel('Ein(w_lin) - Ein(w_poly)')\n",
    "plt.ylabel('Frequency')\n",
    "plt.title('Histogram of Error Differences')\n",
    "plt.legend()\n",
    "plt.show()"
   ]
  },
  {
   "cell_type": "code",
   "execution_count": 30,
   "metadata": {},
   "outputs": [
    {
     "data": {
      "text/plain": [
       "[45.55657024660474,\n",
       " 37.239331415175705,\n",
       " 11.571512812774277,\n",
       " 84.50266600124588,\n",
       " 18.419134853696768]"
      ]
     },
     "execution_count": 30,
     "metadata": {},
     "output_type": "execute_result"
    }
   ],
   "source": [
    "lin_sub_poly_error[:5]"
   ]
  },
  {
   "cell_type": "code",
   "execution_count": 31,
   "metadata": {},
   "outputs": [
    {
     "data": {
      "text/plain": [
       "[2.106684773011876,\n",
       " 2.573689549750096,\n",
       " 2.6182981546031963,\n",
       " 2.650761027360537,\n",
       " 2.667647590987482]"
      ]
     },
     "execution_count": 31,
     "metadata": {},
     "output_type": "execute_result"
    }
   ],
   "source": [
    "# sort lin_sub_poly_error\n",
    "lin_sub_poly_error.sort()\n",
    "lin_sub_poly_error[:5]"
   ]
  },
  {
   "cell_type": "code",
   "execution_count": 32,
   "metadata": {},
   "outputs": [
    {
     "data": {
      "text/plain": [
       "177.90726477893517"
      ]
     },
     "execution_count": 32,
     "metadata": {},
     "output_type": "execute_result"
    }
   ],
   "source": [
    "max(lin_sub_poly_error)"
   ]
  },
  {
   "cell_type": "code",
   "execution_count": 33,
   "metadata": {},
   "outputs": [
    {
     "data": {
      "text/plain": [
       "(64, 12)"
      ]
     },
     "execution_count": 33,
     "metadata": {},
     "output_type": "execute_result"
    }
   ],
   "source": [
    "X_sample_mat_lin.shape"
   ]
  },
  {
   "cell_type": "code",
   "execution_count": 34,
   "metadata": {},
   "outputs": [
    {
     "data": {
      "text/plain": [
       "(64, 37)"
      ]
     },
     "execution_count": 34,
     "metadata": {},
     "output_type": "execute_result"
    }
   ],
   "source": [
    "X_sample_mat_poly.shape"
   ]
  },
  {
   "cell_type": "code",
   "execution_count": null,
   "metadata": {},
   "outputs": [],
   "source": []
  }
 ],
 "metadata": {
  "kernelspec": {
   "display_name": "base",
   "language": "python",
   "name": "python3"
  },
  "language_info": {
   "codemirror_mode": {
    "name": "ipython",
    "version": 3
   },
   "file_extension": ".py",
   "mimetype": "text/x-python",
   "name": "python",
   "nbconvert_exporter": "python",
   "pygments_lexer": "ipython3",
   "version": "3.12.3"
  }
 },
 "nbformat": 4,
 "nbformat_minor": 2
}
